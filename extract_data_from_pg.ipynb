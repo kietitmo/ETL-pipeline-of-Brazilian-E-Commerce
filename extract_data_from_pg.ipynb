{
 "cells": [
  {
   "cell_type": "code",
   "execution_count": 3,
   "id": "217c8712-4bfa-40af-a0f7-e8df2037a82a",
   "metadata": {},
   "outputs": [],
   "source": [
    "import pyspark\n",
    "from pyspark.sql import SparkSession\n",
    "from pyspark.sql import types\n",
    "\n",
    "spark = SparkSession.builder \\\n",
    "    .config(\"spark.jars\", \"C:\\\\tools\\\\spark-3.3.2-bin-hadoop3\\\\jars\\\\postgresql-42.6.2.jar\")\\\n",
    "    .master(\"local[*]\") \\\n",
    "    .appName('spark-app') \\\n",
    "    .getOrCreate()"
   ]
  },
  {
   "cell_type": "code",
   "execution_count": 4,
   "id": "333292c8-244c-4df2-ae3f-c2178f2586a2",
   "metadata": {},
   "outputs": [
    {
     "data": {
      "text/plain": [
       "'3.3.2'"
      ]
     },
     "execution_count": 4,
     "metadata": {},
     "output_type": "execute_result"
    }
   ],
   "source": [
    "spark.version"
   ]
  },
  {
   "cell_type": "code",
   "execution_count": 5,
   "id": "87798c3e-0441-4703-93d4-254aff509085",
   "metadata": {},
   "outputs": [],
   "source": [
    "from pyspark.sql.types import *"
   ]
  },
  {
   "cell_type": "code",
   "execution_count": 6,
   "id": "b30f8e7f-0ff2-480c-ad55-4d3d27b5bc24",
   "metadata": {},
   "outputs": [],
   "source": [
    "def read_table_to_df(table_name, schema):\n",
    "    df = spark.read \\\n",
    "        .format(\"jdbc\") \\\n",
    "        .option(\"url\", \"jdbc:postgresql://localhost:5432/postgres\") \\\n",
    "        .option(\"dbtable\", table_name) \\\n",
    "        .option(\"user\", \"root\") \\\n",
    "        .option(\"password\", \"root\") \\\n",
    "        .option(\"driver\", \"org.postgresql.Driver\") \\\n",
    "        .schema(schema) \\\n",
    "        .load()\n",
    "    return df"
   ]
  },
  {
   "cell_type": "code",
   "execution_count": 7,
   "id": "e47f6243-383f-4e72-80ca-200109ea8f46",
   "metadata": {},
   "outputs": [],
   "source": [
    "schema_customers = StructType([ \\\n",
    "    StructField(\"customer_id\", StringType(), True), \\\n",
    "    StructField(\"customer_unique_id\", StringType(), True), \\\n",
    "    StructField(\"customer_zip_code_prefix\", StringType(), True), \\\n",
    "    StructField(\"customer_city\", StringType(), True), \\\n",
    "    StructField(\"customer_state\", StringType(), True), \\\n",
    "  ])\n",
    "\n",
    "df_customers = read_table_to_df(\"olist_customers_dataset\", schema_customers) "
   ]
  },
  {
   "cell_type": "code",
   "execution_count": 8,
   "id": "c4f36705-c45a-4a11-b6a9-bbe9b3f07b04",
   "metadata": {},
   "outputs": [],
   "source": [
    "df_customers.repartition(16).write.parquet('hdfs://localhost:9000/home/datalake/customers', mode='overwrite')"
   ]
  },
  {
   "cell_type": "code",
   "execution_count": 9,
   "id": "e6bf7935-5cda-47ed-b333-bebce94f5a1f",
   "metadata": {},
   "outputs": [],
   "source": [
    "schema_orders = StructType([ \\\n",
    "    StructField(\"order_id\", StringType(), True), \\\n",
    "    StructField(\"customer_id\", StringType(), True), \\\n",
    "    StructField(\"order_status\", StringType(), True), \\\n",
    "    StructField(\"order_purchase_timestamp\", TimestampType(), True), \\\n",
    "    StructField(\"order_approved_at\", TimestampType(), True), \\\n",
    "    StructField(\"order_delivered_carrier_date\", TimestampType(), True), \\\n",
    "    StructField(\"order_delivered_customer_date\", TimestampType(), True), \\\n",
    "    StructField(\"order_estimated_delivery_date\", TimestampType(), True), \\\n",
    "  ])\n",
    "\n",
    "df_orders = read_table_to_df(\"olist_orders_dataset\", schema_orders) "
   ]
  },
  {
   "cell_type": "code",
   "execution_count": 10,
   "id": "721e079a-b8fd-4333-b859-54d32865b62a",
   "metadata": {},
   "outputs": [],
   "source": [
    "df_orders.repartition(16).write.parquet('hdfs://localhost:9000/home/datalake/orders', mode='overwrite')"
   ]
  },
  {
   "cell_type": "code",
   "execution_count": 11,
   "id": "3e1a703d-1d89-48fe-92a7-e785ec7ad0ce",
   "metadata": {},
   "outputs": [],
   "source": [
    "schema_geolocation = StructType([ \\\n",
    "    StructField(\"geolocation_zip_code_prefix\", StringType(), True), \\\n",
    "    StructField(\"geolocation_lat\", DoubleType(), True), \\\n",
    "    StructField(\"geolocation_lng\", DoubleType(), True), \\\n",
    "    StructField(\"geolocation_city\", StringType(), True), \\\n",
    "    StructField(\"geolocation_state\", StringType(), True), \\\n",
    "  ])\n",
    "\n",
    "df_geolocation = read_table_to_df(\"olist_geolocation_dataset\", schema_geolocation) "
   ]
  },
  {
   "cell_type": "code",
   "execution_count": 12,
   "id": "b9b40bb2-224b-43ae-9222-ddc416bb5df2",
   "metadata": {},
   "outputs": [],
   "source": [
    "df_geolocation.repartition(16).write.parquet('hdfs://localhost:9000/home/datalake/geolocation', mode='overwrite')"
   ]
  },
  {
   "cell_type": "code",
   "execution_count": 13,
   "id": "bc49d89f-5f8a-4515-8134-de35d4727092",
   "metadata": {},
   "outputs": [],
   "source": [
    "schema_order_items = StructType([ \\\n",
    "    StructField(\"order_id\", StringType(), True), \\\n",
    "    StructField(\"order_item_id\", StringType(), True), \\\n",
    "    StructField(\"product_id\", StringType(), True), \\\n",
    "    StructField(\"seller_id\", StringType(), True), \\\n",
    "    StructField(\"shipping_limit_date\", TimestampType(), True), \\\n",
    "    StructField(\"price\", DoubleType(), True), \\\n",
    "    StructField(\"freight_value\", DoubleType(), True), \\\n",
    "  ])\n",
    "\n",
    "df_order_items = read_table_to_df(\"olist_order_items_dataset\", schema_order_items) "
   ]
  },
  {
   "cell_type": "code",
   "execution_count": 14,
   "id": "82eb25dc-f18b-4e95-b16b-7a5aa9917793",
   "metadata": {},
   "outputs": [],
   "source": [
    "df_order_items.repartition(16).write.parquet('hdfs://localhost:9000/home/datalake/order_items', mode='overwrite')"
   ]
  },
  {
   "cell_type": "code",
   "execution_count": 15,
   "id": "15efb7ca-d67d-413b-9d00-53a2c9b2cf85",
   "metadata": {},
   "outputs": [],
   "source": [
    "schema_order_payments = StructType([ \\\n",
    "    StructField(\"order_id\", StringType(), True), \\\n",
    "    StructField(\"payment_sequential\", DoubleType(), True), \\\n",
    "    StructField(\"payment_type\", StringType(), True), \\\n",
    "    StructField(\"payment_installments\", IntegerType(), True), \\\n",
    "    StructField(\"payment_value\", DoubleType(), True), \\\n",
    "  ])\n",
    "\n",
    "df_order_payments = read_table_to_df(\"olist_order_payments_dataset\", schema_order_payments) "
   ]
  },
  {
   "cell_type": "code",
   "execution_count": 16,
   "id": "699f6cdb-f6b8-4c60-b3d5-a0dbbb594ad7",
   "metadata": {},
   "outputs": [],
   "source": [
    "df_order_payments.repartition(16).write.parquet('hdfs://localhost:9000/home/datalake/payments', mode='overwrite')"
   ]
  },
  {
   "cell_type": "code",
   "execution_count": 17,
   "id": "566e49a3-bc5a-435b-a563-69ef29ecfe9f",
   "metadata": {},
   "outputs": [],
   "source": [
    "schema_order_reviews = StructType([ \\\n",
    "    StructField(\"review_id\", StringType(), True), \\\n",
    "    StructField(\"order_id\", StringType(), True), \\\n",
    "    StructField(\"review_score\", IntegerType(), True), \\\n",
    "    StructField(\"review_comment_title\", StringType(), True), \\\n",
    "    StructField(\"review_comment_message\", StringType(), True), \\\n",
    "    StructField(\"review_creation_date\", TimestampType(), True), \\\n",
    "    StructField(\"review_answer_timestamp\", TimestampType(), True), \\\n",
    "  ])\n",
    "\n",
    "df_order_reviews = read_table_to_df(\"olist_order_reviews_dataset\", schema_order_reviews) "
   ]
  },
  {
   "cell_type": "code",
   "execution_count": 18,
   "id": "22cab8a7-723b-4717-b214-96ec8098515e",
   "metadata": {},
   "outputs": [],
   "source": [
    "df_order_reviews.repartition(16).write.parquet('hdfs://localhost:9000/home/datalake/reviews', mode='overwrite')"
   ]
  },
  {
   "cell_type": "code",
   "execution_count": 19,
   "id": "89150854-d4a3-4cdc-906b-566d51e64203",
   "metadata": {},
   "outputs": [],
   "source": [
    "schema_products = StructType([ \\\n",
    "    StructField(\"product_id\", StringType(), True), \\\n",
    "    StructField(\"product_category_name\", StringType(), True), \\\n",
    "    StructField(\"product_name_lenght\", IntegerType(), True), \\\n",
    "    StructField(\"product_description_lenght\", IntegerType(), True), \\\n",
    "    StructField(\"product_photos_qty\", IntegerType(), True), \\\n",
    "    StructField(\"product_weight_g\", IntegerType(), True), \\\n",
    "    StructField(\"product_length_cm\", IntegerType(), True), \\\n",
    "    StructField(\"product_height_cm\", IntegerType(), True), \\\n",
    "    StructField(\"product_width_cm\", IntegerType(), True), \\\n",
    "  ])\n",
    "\n",
    "df_products = read_table_to_df(\"olist_products_dataset\", schema_products) "
   ]
  },
  {
   "cell_type": "code",
   "execution_count": 20,
   "id": "20c388e9-d995-4bda-82de-64de5b28bf94",
   "metadata": {},
   "outputs": [],
   "source": [
    "df_products.repartition(16).write.parquet('hdfs://localhost:9000/home/datalake/products', mode='overwrite')"
   ]
  },
  {
   "cell_type": "code",
   "execution_count": 21,
   "id": "f322a114-a41f-43d8-90c1-404e603c96d3",
   "metadata": {},
   "outputs": [],
   "source": [
    "schema_sellers = StructType([ \\\n",
    "    StructField(\"seller_id\", StringType(), True), \\\n",
    "    StructField(\"seller_zip_code_prefix\", StringType(), True), \\\n",
    "    StructField(\"seller_city\", StringType(), True), \\\n",
    "    StructField(\"seller_state\", StringType(), True), \\\n",
    "  ])\n",
    "\n",
    "df_sellers = read_table_to_df(\"olist_sellers_dataset\", schema_sellers) "
   ]
  },
  {
   "cell_type": "code",
   "execution_count": 22,
   "id": "c9bcb5b4-cb6a-4611-8402-0103daa0e491",
   "metadata": {},
   "outputs": [],
   "source": [
    "df_sellers.repartition(16).write.parquet('hdfs://localhost:9000/home/datalake/sellers', mode='overwrite')"
   ]
  },
  {
   "cell_type": "code",
   "execution_count": 23,
   "id": "0d9d9def-365d-4f3d-a770-5df06cad4395",
   "metadata": {},
   "outputs": [],
   "source": [
    "schema_category_name_translation = StructType([ \\\n",
    "    StructField(\"product_category_name\", StringType(), True), \\\n",
    "    StructField(\"product_category_name_english\", StringType(), True), \\\n",
    "  ])\n",
    "\n",
    "df_category_name_translation = read_table_to_df(\"product_category_name_translation\", schema_category_name_translation) "
   ]
  },
  {
   "cell_type": "code",
   "execution_count": 24,
   "id": "5c4caa1f-8303-43c4-af9b-b7bb5577b83c",
   "metadata": {},
   "outputs": [],
   "source": [
    "df_category_name_translation.repartition(16).write.parquet('hdfs://localhost:9000/home/datalake/category_name_translation', mode='overwrite')"
   ]
  },
  {
   "cell_type": "code",
   "execution_count": null,
   "id": "e3eb8a56-852d-4c7c-8474-e299c43d7f64",
   "metadata": {},
   "outputs": [],
   "source": []
  }
 ],
 "metadata": {
  "kernelspec": {
   "display_name": "Python 3 (ipykernel)",
   "language": "python",
   "name": "python3"
  },
  "language_info": {
   "codemirror_mode": {
    "name": "ipython",
    "version": 3
   },
   "file_extension": ".py",
   "mimetype": "text/x-python",
   "name": "python",
   "nbconvert_exporter": "python",
   "pygments_lexer": "ipython3",
   "version": "3.12.4"
  }
 },
 "nbformat": 4,
 "nbformat_minor": 5
}
