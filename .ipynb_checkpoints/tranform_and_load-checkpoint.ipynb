{
 "cells": [
  {
   "cell_type": "code",
   "execution_count": 117,
   "id": "7e1899c4-ef55-4c86-a34f-ad89d6693587",
   "metadata": {},
   "outputs": [],
   "source": [
    "import pyspark\n",
    "from pyspark.sql import SparkSession\n",
    "from pyspark.sql import types\n",
    "from pyspark.sql.functions import *\n",
    "from pyspark.sql.functions import *\n",
    "\n",
    "spark = SparkSession.builder \\\n",
    "    .config(\"spark.jars\", \"C:\\\\tools\\\\spark-3.3.2-bin-hadoop3\\\\jars\\\\postgresql-42.6.2.jar\")\\\n",
    "    .master(\"local[*]\") \\\n",
    "    .appName('spark-app') \\\n",
    "    .getOrCreate()"
   ]
  },
  {
   "cell_type": "code",
   "execution_count": 118,
   "id": "5539d510-4994-4519-b236-0f25a21bf605",
   "metadata": {},
   "outputs": [
    {
     "data": {
      "text/plain": [
       "'3.3.2'"
      ]
     },
     "execution_count": 118,
     "metadata": {},
     "output_type": "execute_result"
    }
   ],
   "source": [
    "spark.version"
   ]
  },
  {
   "cell_type": "code",
   "execution_count": 4,
   "id": "7cfa2574-d3cf-44e7-85e5-b8fd75bc5694",
   "metadata": {},
   "outputs": [],
   "source": [
    "df_orders =spark.read.parquet(\"hdfs://localhost:9000/home/datalake/orders\")\n",
    "df_customers =spark.read.parquet(\"hdfs://localhost:9000/home/datalake/customers\")\n",
    "df_order_items =spark.read.parquet(\"hdfs://localhost:9000/home/datalake/order_items\")\n",
    "df_payments =spark.read.parquet(\"hdfs://localhost:9000/home/datalake/payments\")\n",
    "df_products =spark.read.parquet(\"hdfs://localhost:9000/home/datalake/products\")\n",
    "df_reviews =spark.read.parquet(\"hdfs://localhost:9000/home/datalake/reviews\")\n",
    "df_sellers =spark.read.parquet(\"hdfs://localhost:9000/home/datalake/sellers\")\n",
    "df_geolocation =spark.read.parquet(\"hdfs://localhost:9000/home/datalake/geolocation\")\n",
    "df_category_name_translation =spark.read.parquet(\"hdfs://localhost:9000/home/datalake/category_name_translation\")"
   ]
  },
  {
   "cell_type": "code",
   "execution_count": 5,
   "id": "6c7e7b97-3eb5-4467-82b8-30c3d3a94bd9",
   "metadata": {},
   "outputs": [
    {
     "name": "stdout",
     "output_type": "stream",
     "text": [
      "+------------+-----+\n",
      "|order_status|count|\n",
      "+------------+-----+\n",
      "|     shipped| 1107|\n",
      "|    canceled|  625|\n",
      "|    invoiced|  314|\n",
      "|   delivered|96478|\n",
      "| unavailable|  609|\n",
      "|  processing|  301|\n",
      "|     created|    5|\n",
      "|    approved|    2|\n",
      "+------------+-----+\n",
      "\n"
     ]
    }
   ],
   "source": [
    "df_orders_2 = df_orders.groupby('order_status').count()\n",
    "df_orders_2.show()"
   ]
  },
  {
   "cell_type": "code",
   "execution_count": 6,
   "id": "f3c90564-1080-4bd1-9c3d-b4166a28dd8a",
   "metadata": {},
   "outputs": [
    {
     "name": "stdout",
     "output_type": "stream",
     "text": [
      "+--------------------+--------------------+------------+------------------------+-------------------+----------------------------+-----------------------------+-----------------------------+\n",
      "|            order_id|         customer_id|order_status|order_purchase_timestamp|  order_approved_at|order_delivered_carrier_date|order_delivered_customer_date|order_estimated_delivery_date|\n",
      "+--------------------+--------------------+------------+------------------------+-------------------+----------------------------+-----------------------------+-----------------------------+\n",
      "|5188f7ae18cdf7538...|0be3b3c1bd5eb9d58...|   delivered|     2017-09-14 11:16:49|2017-09-14 11:30:14|         2017-09-14 18:22:15|          2017-10-13 20:52:37|          2017-10-06 00:00:00|\n",
      "|084ac8d010dca0cb8...|76f2cd7947ffec495...|   delivered|     2018-02-13 14:37:04|2018-02-16 07:56:21|         2018-02-16 19:42:04|          2018-02-26 16:13:34|          2018-03-07 00:00:00|\n",
      "|045b201c094804e3f...|5adb0951ee1644e69...|   delivered|     2017-12-07 09:02:57|2017-12-12 03:55:39|         2017-12-13 23:58:52|          2018-01-03 21:27:41|          2018-01-12 00:00:00|\n",
      "|53a1965cb8e1d6cf4...|ed464200108d2cc6c...|   delivered|     2017-06-25 15:25:51|2017-06-27 03:45:16|         2017-06-27 13:47:07|          2017-07-04 14:34:23|          2017-07-18 00:00:00|\n",
      "|cd4d00f4cdfc2365a...|87212a59dab079c4b...|   delivered|     2018-03-21 02:22:41|2018-03-21 09:48:17|         2018-03-23 19:41:03|          2018-04-23 18:15:28|          2018-04-26 00:00:00|\n",
      "|23a0c1ef37b1e2599...|ee92050607377372e...|   delivered|     2017-07-17 06:54:05|2017-07-17 07:05:15|         2017-07-19 01:12:26|          2017-09-19 16:39:58|          2017-08-04 00:00:00|\n",
      "|3f78a6201286f6b6b...|c1f3a8a08aa2c796b...|   delivered|     2018-03-08 19:20:03|2018-03-08 19:30:39|         2018-03-13 00:51:26|          2018-04-02 22:50:06|          2018-04-06 00:00:00|\n",
      "|a6ade711f329afba0...|ddb1eba2d5a604860...|     shipped|     2018-07-23 23:58:12|2018-07-24 10:31:12|         2018-07-24 11:01:00|                         null|          2018-08-10 00:00:00|\n",
      "|b1127d37a7b6bdc4f...|e6242688aa32fed2e...|   delivered|     2018-08-20 21:03:23|2018-08-20 21:30:08|         2018-08-21 14:24:00|          2018-08-22 17:21:39|          2018-08-28 00:00:00|\n",
      "|9ffb45ae888742578...|f37a657ab3c515ad0...|   delivered|     2017-08-20 16:19:21|2017-08-20 16:35:15|         2017-08-21 17:57:02|          2017-08-29 20:53:04|          2017-09-14 00:00:00|\n",
      "+--------------------+--------------------+------------+------------------------+-------------------+----------------------------+-----------------------------+-----------------------------+\n",
      "only showing top 10 rows\n",
      "\n"
     ]
    }
   ],
   "source": [
    "df_orders.show(10)"
   ]
  },
  {
   "cell_type": "code",
   "execution_count": 7,
   "id": "098eaf45-9960-4ce1-a016-dcf30e3553e6",
   "metadata": {},
   "outputs": [
    {
     "name": "stdout",
     "output_type": "stream",
     "text": [
      "+--------------------+------------------+------------+--------------------+-------------+\n",
      "|            order_id|payment_sequential|payment_type|payment_installments|payment_value|\n",
      "+--------------------+------------------+------------+--------------------+-------------+\n",
      "|14142e4c26cd19047...|               2.0|     voucher|                   1|        100.0|\n",
      "|307c55be8a2874385...|               1.0| credit_card|                   1|        87.93|\n",
      "|d27011ebb19676cc4...|               1.0|      boleto|                   1|        195.0|\n",
      "|7714757e3e3208a4b...|               1.0| credit_card|                   4|        88.08|\n",
      "|e2fcf0dc80d06ac32...|               1.0| credit_card|                   5|       274.01|\n",
      "|4e506215592eafe8d...|               1.0| credit_card|                   3|       152.82|\n",
      "|bcc786c10284d63d8...|               1.0| credit_card|                   1|        99.74|\n",
      "|5076401c4f2f4895f...|               1.0|      boleto|                   1|        87.48|\n",
      "|0259b4edb1ee1ebd0...|               1.0| credit_card|                   4|        69.03|\n",
      "|57d9af1de34ab593d...|               1.0|      boleto|                   1|       243.11|\n",
      "|2622673a1a0575cbc...|               1.0| credit_card|                   5|       259.96|\n",
      "|11db6666e1dbeee77...|               1.0| credit_card|                   5|        55.98|\n",
      "|a9b84349900ef15cb...|               1.0| credit_card|                   1|        175.3|\n",
      "|66305a754211cca47...|               1.0|      boleto|                   1|       537.16|\n",
      "|be4bbf54d948c09c8...|               1.0| credit_card|                   3|        36.35|\n",
      "|3a8e8e947707941c5...|               1.0| credit_card|                   7|       159.85|\n",
      "|aba560ab127e5b684...|               1.0| credit_card|                   5|       384.08|\n",
      "|2fc8432d4f906403e...|               1.0| credit_card|                   3|        31.75|\n",
      "|d8c15550aee132ffe...|               1.0| credit_card|                   4|        86.02|\n",
      "|4b4c7655aadab4cf1...|               1.0| credit_card|                   2|       249.08|\n",
      "+--------------------+------------------+------------+--------------------+-------------+\n",
      "only showing top 20 rows\n",
      "\n"
     ]
    }
   ],
   "source": [
    "df_payments.show()"
   ]
  },
  {
   "cell_type": "code",
   "execution_count": 8,
   "id": "306971db-0a54-4410-a662-a57e3f81bd0f",
   "metadata": {},
   "outputs": [
    {
     "name": "stdout",
     "output_type": "stream",
     "text": [
      "+--------------------+-------------+--------------------+--------------------+-------------------+------+-------------+\n",
      "|            order_id|order_item_id|          product_id|           seller_id|shipping_limit_date| price|freight_value|\n",
      "+--------------------+-------------+--------------------+--------------------+-------------------+------+-------------+\n",
      "|04af40a6714e5ab25...|            1|7e0995bd610eb1dfe...|14d7985702e72162b...|2018-03-14 22:31:32|  40.0|         7.39|\n",
      "|50f943da6e59c1047...|            1|2b1253c7c4fc2b039...|d20b021d3efdf267a...|2017-05-16 23:02:38| 46.99|        35.67|\n",
      "|489f4aa5c9356b6e5...|            1|0e8e65e0044a4d888...|f00e21b1e91a79653...|2017-06-05 21:30:15| 159.9|        14.14|\n",
      "|509a879b07f7712dc...|            1|2722b86640ddc24e1...|72c5da29406b42349...|2018-05-17 20:55:37|299.99|        23.18|\n",
      "|389d99caa7584786e...|            1|fb949f35bd1873f84...|6edacfd9f9074789d...|2017-07-13 17:50:21|  51.9|         12.7|\n",
      "|4af2fb154881f350d...|            1|86ecc269de40ba132...|b76dba6c951ab00dc...|2018-07-26 13:20:19| 25.97|        22.11|\n",
      "|bfb1a4b760e9c724c...|            4|703d742887bb9267f...|640e21a7d01df7614...|2018-05-24 21:54:11|  56.1|        22.65|\n",
      "|6c54ede964379de26...|            1|8b5227e28272123ee...|2eb70248d66e0e3ef...|2018-05-30 16:31:20| 494.0|        10.32|\n",
      "|5fb4ea19db61afd32...|            1|8ad980f63b9be72d0...|a5dd1946fb63ada8b...|2017-12-01 17:20:35| 61.89|        12.68|\n",
      "|68c7b161c0d53a4f6...|            1|d2ded4a70d299e058...|f46490624488d3ff7...|2018-06-28 15:30:46|  12.5|         7.39|\n",
      "|748c52d1621e759a5...|            1|d722e6d632fdc8f3b...|5c243662ce92d8457...|2017-10-09 21:24:24|362.99|        11.36|\n",
      "|aa0910dcd21e1118e...|            1|35e30f098f0bdf1af...|99002261c568a84cc...|2018-06-22 10:00:31| 100.0|        23.42|\n",
      "|6a23f8ca5022ad529...|            1|568d3a7903cd34550...|cca3071e3e9bb7d12...|2017-12-05 18:18:24| 52.11|        15.11|\n",
      "|afd363f0f987b7f9b...|            2|50fd2b788dc166edd...|8b321bb669392f516...|2017-12-18 18:31:45|  21.9|         15.1|\n",
      "|5bdb0867cd3ddd505...|            1|bb3ba3a4e6d7471b6...|ac3508719a1d8f5b7...|2017-10-05 22:56:45|  89.9|        47.16|\n",
      "|586992f50ed978987...|            1|8b502ca34e28d3060...|fa1c13f2614d7b5c4...|2017-02-04 17:01:46|2999.0|        17.01|\n",
      "|f71951324325e3af9...|            1|dbb67791e405873b2...|9c0e69c7bf2619675...|2018-04-19 13:15:42| 81.99|        18.45|\n",
      "|7d2276ea7a66f8f02...|            1|859c76e39d1772297...|1336efc61c316ddf9...|2018-03-15 11:10:56|  49.0|        13.71|\n",
      "|c6657be5ece0d6d84...|            1|ba4a91633739ceceb...|7c67e1448b00f6e96...|2017-12-22 04:09:17|139.99|        28.34|\n",
      "|2a463210d1a9df138...|            1|0b5c0ecd14105464e...|dbc22125167c298ef...|2017-09-14 04:50:06|  48.9|         17.6|\n",
      "+--------------------+-------------+--------------------+--------------------+-------------------+------+-------------+\n",
      "only showing top 20 rows\n",
      "\n"
     ]
    }
   ],
   "source": [
    "df_order_items.show()"
   ]
  },
  {
   "cell_type": "code",
   "execution_count": 9,
   "id": "6c38d970-d3cf-468e-9b05-484eec2d5bde",
   "metadata": {},
   "outputs": [
    {
     "name": "stdout",
     "output_type": "stream",
     "text": [
      "+--------------------+--------------------+------------------------+--------------------+--------------+\n",
      "|         customer_id|  customer_unique_id|customer_zip_code_prefix|       customer_city|customer_state|\n",
      "+--------------------+--------------------+------------------------+--------------------+--------------+\n",
      "|dd0530a5458545b42...|7a1596106b2eba910...|                   08574|     itaquaquecetuba|            SP|\n",
      "|37c117383b391157a...|e171a4ec0e867cac0...|                   20220|      rio de janeiro|            RJ|\n",
      "|a2fcfc4d534195000...|6bdd34652c5ca96ab...|                   02349|           sao paulo|            SP|\n",
      "|44344e9f944a56921...|95b1cb35aa91d54d5...|                   29780|sao gabriel da palha|            ES|\n",
      "|b855beb4e42f78851...|fe86854f299d065a1...|                   75115|            anapolis|            GO|\n",
      "|26d480c92395324f0...|75397e2d405166ca0...|                   13500|           rio claro|            SP|\n",
      "|f7d94377ee8d0325d...|404a868c6db476dcf...|                   91410|        porto alegre|            RS|\n",
      "|39ed53d31627390f1...|98ec8f34699b3551d...|                   05812|           sao paulo|            SP|\n",
      "|96062ed70db09e708...|07165317dfc32fc67...|                   29146|           cariacica|            ES|\n",
      "|77992c23eb50255f6...|91275e7b1847f1029...|                   71908|            brasilia|            DF|\n",
      "+--------------------+--------------------+------------------------+--------------------+--------------+\n",
      "only showing top 10 rows\n",
      "\n"
     ]
    }
   ],
   "source": [
    "df_customers.show(10)"
   ]
  },
  {
   "cell_type": "code",
   "execution_count": 10,
   "id": "ba9c3745-8292-4c6e-a8bd-56432099bc8c",
   "metadata": {},
   "outputs": [
    {
     "data": {
      "text/plain": [
       "DataFrame[order_id: string, customer_id: string, order_item_id: string, product_id: string, price: double]"
      ]
     },
     "execution_count": 10,
     "metadata": {},
     "output_type": "execute_result"
    }
   ],
   "source": [
    "df_orders_detail = df_orders.join(df_order_items,'order_id', 'inner')\n",
    "df_orders_detail.select('order_id', 'customer_id', 'order_item_id', 'product_id', 'price')"
   ]
  },
  {
   "cell_type": "code",
   "execution_count": 11,
   "id": "1e2a653d-b908-474c-93bd-37f8ea2c2a56",
   "metadata": {},
   "outputs": [],
   "source": [
    "# Top saling category product"
   ]
  },
  {
   "cell_type": "code",
   "execution_count": 12,
   "id": "67fc7e70-de09-4d15-a56f-efb11b2f3a8e",
   "metadata": {},
   "outputs": [],
   "source": [
    "df_order_item_product = df_order_items.join(df_products,'product_id', 'inner')\\\n",
    "                                    .select('product_id', 'product_category_name', 'price',)\n",
    "df_order_item_product_en = df_order_item_product.join(df_category_name_translation, 'product_category_name', 'inner')\\\n",
    "                                                .drop('product_category_name')"
   ]
  },
  {
   "cell_type": "code",
   "execution_count": 33,
   "id": "40af90b4-9592-4c91-b068-a0706200d7ad",
   "metadata": {},
   "outputs": [],
   "source": [
    "popular_products = df_order_item_product_en.groupby('product_category_name_english')\\\n",
    "                                            .agg(count('product_category_name_english').alias('count'), \\\n",
    "                                                 sum('price').alias('total'))\\\n",
    "                                            .orderBy('count', ascending = False)\\\n",
    "                                            .withColumn('total', round(col('total'),2))"
   ]
  },
  {
   "cell_type": "code",
   "execution_count": 34,
   "id": "c97c389f-9789-4ce1-bce8-3b56ad21207e",
   "metadata": {},
   "outputs": [
    {
     "name": "stdout",
     "output_type": "stream",
     "text": [
      "+-----------------------------+-----+----------+\n",
      "|product_category_name_english|count|     total|\n",
      "+-----------------------------+-----+----------+\n",
      "|               bed_bath_table|11115|1036988.68|\n",
      "|                health_beauty| 9670|1258681.34|\n",
      "|               sports_leisure| 8641| 988048.97|\n",
      "|              furniture_decor| 8334| 729762.49|\n",
      "|         computers_accesso...| 7827| 911954.32|\n",
      "|                   housewares| 6964| 632248.66|\n",
      "|                watches_gifts| 5991|1205005.68|\n",
      "|                    telephony| 4545| 323667.53|\n",
      "|                 garden_tools| 4347| 485256.46|\n",
      "|                         auto| 4235| 592720.11|\n",
      "+-----------------------------+-----+----------+\n",
      "only showing top 10 rows\n",
      "\n"
     ]
    }
   ],
   "source": [
    "popular_products.show(10)"
   ]
  },
  {
   "cell_type": "code",
   "execution_count": 32,
   "id": "16599d57-995e-442d-9207-551d0ef620ca",
   "metadata": {},
   "outputs": [],
   "source": [
    "# Top seller revenue"
   ]
  },
  {
   "cell_type": "code",
   "execution_count": 31,
   "id": "e128423e-b001-409f-9c14-9119e32dd516",
   "metadata": {},
   "outputs": [
    {
     "name": "stdout",
     "output_type": "stream",
     "text": [
      "+--------------------+---------+\n",
      "|           seller_id|    total|\n",
      "+--------------------+---------+\n",
      "|4869f7a5dfa277a7d...|229472.63|\n",
      "|53243585a1d6dc264...|222776.05|\n",
      "|4a3ca9315b744ce9f...|200472.92|\n",
      "|fa1c13f2614d7b5c4...|194042.03|\n",
      "|7c67e1448b00f6e96...|187923.89|\n",
      "|7e93a43ef30c4f03f...|176431.87|\n",
      "|da8622b14eb17ae28...|160236.57|\n",
      "|7a67c85e85bb2ce85...|141745.53|\n",
      "|1025f0e2d44d7041d...|138968.55|\n",
      "|955fee9216a65b617...| 135171.7|\n",
      "|46dc3b2cc0980fb8e...|128111.19|\n",
      "|6560211a19b47992c...|123304.83|\n",
      "|620c87c171fb2a6dd...| 114774.5|\n",
      "|7d13fca1522535862...|113628.97|\n",
      "|5dceca129747e92ff...|112155.53|\n",
      "|1f50f920176fa81da...|106939.21|\n",
      "|cc419e0650a3c5ba7...|104288.42|\n",
      "|a1043bafd471dff53...|101901.16|\n",
      "|3d871de0142ce09b7...|  94914.2|\n",
      "|edb1ef5e36e0c8cd8...| 79284.55|\n",
      "+--------------------+---------+\n",
      "only showing top 20 rows\n",
      "\n"
     ]
    }
   ],
   "source": [
    "df_sellers_orders_detail = df_order_items.join(df_sellers,'seller_id', 'inner')\\\n",
    "                                        .drop('order_item_id', 'shipping_limit_date', 'freight_value', 'seller_zip_code_prefix')\n",
    "\n",
    "df_sellers_orders_detail.groupby('seller_id').agg(sum('price').alias('total'))\\\n",
    "                        .orderBy('total', ascending = False)\\\n",
    "                        .withColumn('total', round(col('total'),2))\\\n",
    "                        .show()"
   ]
  },
  {
   "cell_type": "code",
   "execution_count": 26,
   "id": "4036e3b6-cc1f-4ae7-bc02-7499dbc22b01",
   "metadata": {},
   "outputs": [],
   "source": [
    "# Best city with quantity customer"
   ]
  },
  {
   "cell_type": "code",
   "execution_count": 48,
   "id": "310293b2-8eb1-4ae5-9a2c-01d2de1e4f84",
   "metadata": {},
   "outputs": [
    {
     "name": "stdout",
     "output_type": "stream",
     "text": [
      "+--------------------+--------------+--------------+\n",
      "|       customer_city|customer_state|order_quantity|\n",
      "+--------------------+--------------+--------------+\n",
      "|           sao paulo|            SP|         15540|\n",
      "|      rio de janeiro|            RJ|          6882|\n",
      "|      belo horizonte|            MG|          2773|\n",
      "|            brasilia|            DF|          2131|\n",
      "|            curitiba|            PR|          1521|\n",
      "|            campinas|            SP|          1444|\n",
      "|        porto alegre|            RS|          1379|\n",
      "|            salvador|            BA|          1245|\n",
      "|           guarulhos|            SP|          1189|\n",
      "|sao bernardo do c...|            SP|           938|\n",
      "|             niteroi|            RJ|           849|\n",
      "|         santo andre|            SP|           796|\n",
      "|              osasco|            SP|           746|\n",
      "|              santos|            SP|           713|\n",
      "|             goiania|            GO|           692|\n",
      "| sao jose dos campos|            SP|           691|\n",
      "|           fortaleza|            CE|           654|\n",
      "|            sorocaba|            SP|           633|\n",
      "|              recife|            PE|           613|\n",
      "|       florianopolis|            SC|           570|\n",
      "+--------------------+--------------+--------------+\n",
      "only showing top 20 rows\n",
      "\n"
     ]
    }
   ],
   "source": [
    "df_orders_customer = df_orders.join(df_customers,'customer_id', 'inner')\\\n",
    "                                .select('customer_city', 'customer_state', 'order_id' )\\\n",
    "                                .groupby('customer_city', 'customer_state').agg(count('order_id').alias('order_quantity'))\\\n",
    "                                .orderBy('order_quantity', ascending = False)\n",
    "df_orders_customer.show()"
   ]
  },
  {
   "cell_type": "code",
   "execution_count": 72,
   "id": "ec9c3bd5-e28b-4cf4-bd6d-a24de7833e61",
   "metadata": {},
   "outputs": [],
   "source": [
    "# Which product category is most purchased in each city"
   ]
  },
  {
   "cell_type": "code",
   "execution_count": 76,
   "id": "f57b005b-44d1-4193-b4c9-7b22534bb091",
   "metadata": {},
   "outputs": [
    {
     "name": "stdout",
     "output_type": "stream",
     "text": [
      "+-------------------+----------------------+-----+\n",
      "|      customer_city|most_purchased_product|count|\n",
      "+-------------------+----------------------+-----+\n",
      "|abadia dos dourados|  livros_interesse_...|    1|\n",
      "|          abadiania|       eletroportateis|    1|\n",
      "|             abaete|    relogios_presentes|    3|\n",
      "|         abaetetuba|  informatica_acess...|    5|\n",
      "|            abaiara|            brinquedos|    1|\n",
      "|             abaira|             telefonia|    1|\n",
      "|              abare|    relogios_presentes|    1|\n",
      "|             abatia|             telefonia|    1|\n",
      "|      abdon batista|       cama_mesa_banho|    2|\n",
      "|       abelardo luz|  utilidades_domest...|    2|\n",
      "|           abrantes|  informatica_acess...|    1|\n",
      "|         abre campo|  utilidades_domest...|    1|\n",
      "|       abreu e lima|    ferramentas_jardim|    4|\n",
      "|            acaiaca|  informatica_acess...|    1|\n",
      "|         acailandia|    relogios_presentes|    2|\n",
      "|          acajutiba|             telefonia|    1|\n",
      "|             acarau|      malas_acessorios|    3|\n",
      "|              acari|          beleza_saude|    1|\n",
      "|             acegua|           moveis_sala|    1|\n",
      "|           acopiara|               bebidas|    2|\n",
      "+-------------------+----------------------+-----+\n",
      "only showing top 20 rows\n",
      "\n"
     ]
    }
   ],
   "source": [
    "from pyspark.sql import functions as f\n",
    "\n",
    "df_orders_customer_items = df_orders.join(df_customers,'customer_id', 'inner')\n",
    "df_orders_customer_items = df_orders_customer_items.join(df_order_items,'order_id', 'inner')\n",
    "df_orders_customer_items = df_orders_customer_items.join(df_products,'product_id', 'inner')\n",
    "df_orders_customer_items = df_orders_customer_items.select('customer_city', 'product_category_name')\\\n",
    "                        .groupby( 'customer_city', 'product_category_name')\\\n",
    "                        .agg(count('product_category_name'))\\\n",
    "                        .orderBy('customer_city', ascending = True)\n",
    "df_orders_customer_items = df_orders_customer_items.withColumn(\"product_count\", f.array(\"count(product_category_name)\",\"product_category_name\"))\n",
    "df_orders_customer_items.groupby(\"customer_city\")\\\n",
    "                        .agg(max(\"product_count\").getItem(1).alias(\"most_purchased_product\"), \\\n",
    "                             max(\"product_count\").getItem(0).alias(\"count\"),)\\\n",
    "                        .show()"
   ]
  },
  {
   "cell_type": "code",
   "execution_count": 74,
   "id": "b2dec66f-fc48-4f03-8062-9515af38c9cf",
   "metadata": {},
   "outputs": [],
   "source": [
    "# top payment type"
   ]
  },
  {
   "cell_type": "code",
   "execution_count": 80,
   "id": "43105508-b98c-4e15-9d65-1a9b10126f5a",
   "metadata": {},
   "outputs": [
    {
     "name": "stdout",
     "output_type": "stream",
     "text": [
      "+------------+-----+\n",
      "|payment_type|count|\n",
      "+------------+-----+\n",
      "| credit_card|76795|\n",
      "|      boleto|19784|\n",
      "|     voucher| 5775|\n",
      "|  debit_card| 1529|\n",
      "| not_defined|    3|\n",
      "+------------+-----+\n",
      "\n"
     ]
    }
   ],
   "source": [
    "df_top_payments_type = df_payments.groupby('payment_type').count().alias('count').orderBy('count', ascending = False)\n",
    "df_top_payments_type.show(10)"
   ]
  },
  {
   "cell_type": "code",
   "execution_count": 81,
   "id": "30c4916a-7633-4ab9-8f99-ee22a9ecc108",
   "metadata": {},
   "outputs": [],
   "source": [
    "# Orders were not delivered as expected \n",
    "order_status|order_purchase_timestamp|  order_approved_at|order_delivered_carrier_date|order_delivered_customer_date|order_estimated_delivery_date"
   ]
  },
  {
   "cell_type": "code",
   "execution_count": 91,
   "id": "add46212-970c-4e72-b279-ab004df088b5",
   "metadata": {},
   "outputs": [],
   "source": [
    "df_order_shipping = df_orders.select('order_id','order_delivered_customer_date', 'order_estimated_delivery_date').where(df_orders.order_status == 'delivered')"
   ]
  },
  {
   "cell_type": "code",
   "execution_count": 96,
   "id": "ed18c41d-777b-4524-97a2-5ce40c985a81",
   "metadata": {},
   "outputs": [
    {
     "name": "stdout",
     "output_type": "stream",
     "text": [
      "+--------------------+-----------------------------+-----------------------------+\n",
      "|            order_id|order_delivered_customer_date|order_estimated_delivery_date|\n",
      "+--------------------+-----------------------------+-----------------------------+\n",
      "|5188f7ae18cdf7538...|          2017-10-13 20:52:37|          2017-10-06 00:00:00|\n",
      "|084ac8d010dca0cb8...|          2018-02-26 16:13:34|          2018-03-07 00:00:00|\n",
      "|045b201c094804e3f...|          2018-01-03 21:27:41|          2018-01-12 00:00:00|\n",
      "|53a1965cb8e1d6cf4...|          2017-07-04 14:34:23|          2017-07-18 00:00:00|\n",
      "|cd4d00f4cdfc2365a...|          2018-04-23 18:15:28|          2018-04-26 00:00:00|\n",
      "|23a0c1ef37b1e2599...|          2017-09-19 16:39:58|          2017-08-04 00:00:00|\n",
      "|3f78a6201286f6b6b...|          2018-04-02 22:50:06|          2018-04-06 00:00:00|\n",
      "|b1127d37a7b6bdc4f...|          2018-08-22 17:21:39|          2018-08-28 00:00:00|\n",
      "|9ffb45ae888742578...|          2017-08-29 20:53:04|          2017-09-14 00:00:00|\n",
      "|639b603f09b7050c9...|          2017-05-16 05:37:50|          2017-05-23 00:00:00|\n",
      "|b6fa3751148ad8ba1...|          2017-07-20 19:52:14|          2017-08-01 00:00:00|\n",
      "|400d97d7e7ea05ffb...|          2018-06-29 17:03:43|          2018-07-12 00:00:00|\n",
      "|0d7fc3fc1f6267e80...|          2018-02-14 15:52:23|          2018-03-06 00:00:00|\n",
      "|f61c1d32076f07bcd...|          2018-07-11 21:06:33|          2018-07-17 00:00:00|\n",
      "|a6e8ad5db31e71f5f...|          2018-08-14 17:57:35|          2018-08-16 00:00:00|\n",
      "|d9184093392a8a7af...|          2018-06-11 21:19:52|          2018-05-23 00:00:00|\n",
      "|c6624907a0776d138...|          2018-06-18 18:11:42|          2018-07-16 00:00:00|\n",
      "|306d73cb716b08d35...|          2017-09-20 21:33:20|          2017-10-02 00:00:00|\n",
      "|34c194055d9ef88a3...|          2017-04-12 10:26:31|          2017-05-04 00:00:00|\n",
      "|2db4621a93302d253...|          2018-04-03 04:08:35|          2018-04-11 00:00:00|\n",
      "+--------------------+-----------------------------+-----------------------------+\n",
      "only showing top 20 rows\n",
      "\n"
     ]
    }
   ],
   "source": [
    "df_order_shipping.show()"
   ]
  },
  {
   "cell_type": "code",
   "execution_count": 93,
   "id": "63066636-2916-42bb-a735-d1c200c7d59b",
   "metadata": {},
   "outputs": [],
   "source": [
    "df_order_delay = df_order_shipping.filter(df_order_shipping.order_delivered_customer_date > df_order_shipping.order_estimated_delivery_date)"
   ]
  },
  {
   "cell_type": "code",
   "execution_count": 121,
   "id": "adb8b1d5-e22e-4e1a-abe3-e0ec8e17fabc",
   "metadata": {},
   "outputs": [],
   "source": [
    "df_order_delay= df_order_delay.withColumn('delay_hours', \\\n",
    "                          round(((f.col('order_delivered_customer_date').cast(\"long\") - f.col('order_estimated_delivery_date').cast(\"long\"))/3600), 2))"
   ]
  },
  {
   "cell_type": "code",
   "execution_count": 119,
   "id": "34dcc082-00ad-40ef-b1f3-f4293cb038d4",
   "metadata": {},
   "outputs": [],
   "source": [
    "def write_to_pg(df, table_name):\n",
    "    df.write.format(\"jdbc\")\\\n",
    "        .option(\"url\", \"jdbc:postgresql://ep-small-salad-a2sbsxpd.eu-central-1.aws.neon.tech/brazilian_ecommerce\") \\\n",
    "        .option(\"driver\", \"org.postgresql.Driver\").option(\"dbtable\", table_name) \\\n",
    "        .option(\"user\", \"brazilian_ecommerce_owner\").option(\"password\", \"xQI5TMXN3COU\").save()"
   ]
  },
  {
   "cell_type": "code",
   "execution_count": 122,
   "id": "d706d9d4-fa1c-430c-99f1-2aa236635120",
   "metadata": {},
   "outputs": [],
   "source": [
    "write_to_pg(df_order_delay)"
   ]
  },
  {
   "cell_type": "code",
   "execution_count": null,
   "id": "136fd7c9-6175-4f81-ba80-33694baa4cb9",
   "metadata": {},
   "outputs": [],
   "source": []
  }
 ],
 "metadata": {
  "kernelspec": {
   "display_name": "Python 3 (ipykernel)",
   "language": "python",
   "name": "python3"
  },
  "language_info": {
   "codemirror_mode": {
    "name": "ipython",
    "version": 3
   },
   "file_extension": ".py",
   "mimetype": "text/x-python",
   "name": "python",
   "nbconvert_exporter": "python",
   "pygments_lexer": "ipython3",
   "version": "3.12.4"
  }
 },
 "nbformat": 4,
 "nbformat_minor": 5
}
